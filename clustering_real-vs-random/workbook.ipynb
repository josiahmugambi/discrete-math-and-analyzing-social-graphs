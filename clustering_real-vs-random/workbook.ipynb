{
 "cells": [
  {
   "cell_type": "markdown",
   "metadata": {},
   "source": [
    "## About\n",
    "Work book as I go through this specialization:\n",
    "    \n",
    "https://www.coursera.org/specializations/mathematics-for-data-science"
   ]
  },
  {
   "cell_type": "markdown",
   "metadata": {},
   "source": [
    "#### Tuples\n",
    "$n^k$"
   ]
  },
  {
   "cell_type": "code",
   "execution_count": null,
   "metadata": {},
   "outputs": [],
   "source": [
    "#Tuples\n",
    "from itertools import product\n",
    "for c in product(\"abc\", repeat=2):\n",
    "  print(\"\".join(c))"
   ]
  },
  {
   "cell_type": "markdown",
   "metadata": {},
   "source": [
    "#### Permutations\n",
    "\n",
    "$n!\\over(n-k)!$"
   ]
  },
  {
   "cell_type": "code",
   "execution_count": null,
   "metadata": {},
   "outputs": [],
   "source": [
    "#Permutations\n",
    "from itertools import permutations\n",
    "for c in permutations(\"abc\", 2):\n",
    "  print(\"\".join(c))"
   ]
  },
  {
   "cell_type": "markdown",
   "metadata": {},
   "source": [
    "#### Combinations\n",
    "\n",
    "$n!\\over k!(n-k)!$"
   ]
  },
  {
   "cell_type": "code",
   "execution_count": null,
   "metadata": {},
   "outputs": [],
   "source": [
    "#Combinations\n",
    "from itertools import combinations\n",
    "for c in combinations(\"abc\", 2):\n",
    "  print(\"\".join(c))"
   ]
  },
  {
   "cell_type": "markdown",
   "metadata": {},
   "source": [
    "#### Combinations with repetition\n",
    "\n",
    "$\\binom{k+n-1}{n-1} $"
   ]
  },
  {
   "cell_type": "code",
   "execution_count": null,
   "metadata": {},
   "outputs": [],
   "source": [
    "#Combinations with repetition\n",
    "from itertools import combinations_with_replacement\n",
    "for c in combinations_with_replacement(\"abc\", 2):\n",
    "  print(\"\".join(c))"
   ]
  },
  {
   "cell_type": "markdown",
   "metadata": {},
   "source": [
    "#### Distributing Assignments Among People\n",
    "\n",
    "1. Suppose there are 4 people and 9 different assignments. Each person should receive one assignment. Assignments for different people should be different. How many ways are there to do it?\n",
    "\n",
    "Assignments are unique, implying an ordered selection. Repittions are not allowed. This means that we count $k$-permutations:\n",
    "\n",
    "$n!\\over(n-k)!$\n",
    "\n",
    "where $n$ = 9 and $k$ = 4"
   ]
  },
  {
   "cell_type": "code",
   "execution_count": 23,
   "metadata": {},
   "outputs": [
    {
     "name": "stdout",
     "output_type": "stream",
     "text": [
      "3024\n"
     ]
    }
   ],
   "source": [
    "from math import factorial\n",
    "\n",
    "n = 9\n",
    "k = 4\n",
    "print (int(factorial(n) / factorial(n-k)))"
   ]
  },
  {
   "cell_type": "markdown",
   "metadata": {},
   "source": [
    "2. There are 4 people and 9 different assignments. We need to distribute all assignments among people. No assignment should be assigned to two people. Every person can be given arbitrary number of assignments from 0 to 9. How many ways are there to do it?"
   ]
  },
  {
   "cell_type": "markdown",
   "metadata": {},
   "source": [
    "Each assignment has four options, assignments are different implying an ordered selection, and repetitions allowed. So we count tuples:\n",
    "\n",
    "$n^k$\n",
    "\n",
    "where $n = 4$ and $k = 9$"
   ]
  },
  {
   "cell_type": "code",
   "execution_count": 24,
   "metadata": {},
   "outputs": [
    {
     "data": {
      "text/plain": [
       "262144"
      ]
     },
     "execution_count": 24,
     "metadata": {},
     "output_type": "execute_result"
    }
   ],
   "source": [
    "n = 4\n",
    "k = 9\n",
    "n**k"
   ]
  },
  {
   "cell_type": "markdown",
   "metadata": {},
   "source": [
    "#### Distributing candies Among kids\n",
    "\n",
    "1. There are 15 identical candies. How many ways are there to distribute them among 7 kids?\n",
    "\n",
    "Candies are identical so order doesn't matter. Repitition allowed as kids can get more than one candy.\n",
    "\n",
    "Combination with repititions:\n",
    "\n",
    "$\\binom{k+n-1}{n-1} $\n",
    "\n",
    "where $n$ = 7 and $k$ = 15\n",
    "\n",
    "$\\binom{21}{6} $"
   ]
  },
  {
   "cell_type": "code",
   "execution_count": 26,
   "metadata": {},
   "outputs": [
    {
     "name": "stdout",
     "output_type": "stream",
     "text": [
      "54264\n"
     ]
    }
   ],
   "source": [
    "from math import factorial\n",
    "\n",
    "n = 7\n",
    "k = 15\n",
    "print (int(factorial(k+n-1) / (factorial(k) * factorial(n-1) )))"
   ]
  },
  {
   "cell_type": "markdown",
   "metadata": {},
   "source": [
    "2. There are 15 identical candies. How many ways are there to distribute them among 7 kids in such a way that each kid receives at least 1 candy?\n",
    "\n",
    "First give 1 candy to each kid. Each candy is identical so order doesn't matter. We are left with 8 candies, which then becomes a problem of combination with repetitions\n",
    "\n",
    "$\\binom{k+n-1}{n-1} $\n",
    "\n",
    "where $n$ = 7 and $k$ = 8\n",
    "\n",
    "$\\binom{14}{6} $"
   ]
  },
  {
   "cell_type": "code",
   "execution_count": 28,
   "metadata": {},
   "outputs": [
    {
     "name": "stdout",
     "output_type": "stream",
     "text": [
      "3003\n"
     ]
    }
   ],
   "source": [
    "from math import factorial\n",
    "\n",
    "n = 7\n",
    "k = 8\n",
    "print (int(factorial(k+n-1) / (factorial(k) * factorial(n-1) )))"
   ]
  },
  {
   "cell_type": "markdown",
   "metadata": {},
   "source": [
    "#### Numbers with Fixed Sum of Digits\n",
    "\n",
    "How many non-negative integer numbers are there below 10000 such that their sum of digits is equal to 9?\n",
    "\n",
    "Integers between 0 and 9999\n",
    "Sum of digits = 9\n",
    "\n",
    "- Consider numbers as sequences of 4 digits\n",
    "- there are four positions\n",
    "- split the weight of 9 among them \n",
    "- assumem they are 0 in the beginning and add 1 nine times\n",
    "- each time we pick one of the digits to increase\n",
    "- Unordered + Reptitions\n",
    "\n",
    "$\\binom{k+n-1}{n-1} $\n",
    "\n",
    "where $n$ = 4 and $k$ = 9\n",
    "\n",
    "$\\binom{12}{3} $"
   ]
  },
  {
   "cell_type": "code",
   "execution_count": null,
   "metadata": {},
   "outputs": [],
   "source": [
    "import itertools as it\n",
    "count = 0\n",
    "for d in it.product(range(10), repeat = 4):\n",
    "    if sum(d) == 9:\n",
    "        count += 1\n",
    "        print(d)\n",
    "print(count)"
   ]
  },
  {
   "cell_type": "code",
   "execution_count": 35,
   "metadata": {},
   "outputs": [
    {
     "name": "stdout",
     "output_type": "stream",
     "text": [
      "220\n"
     ]
    }
   ],
   "source": [
    "from math import factorial\n",
    "\n",
    "n = 4\n",
    "k = 9\n",
    "print (int(factorial(k+n-1) / (factorial(k) * factorial(n-1) )))"
   ]
  },
  {
   "cell_type": "markdown",
   "metadata": {
    "tags": []
   },
   "source": [
    "#### Numbers with Fixed Sum of Digits\n",
    "\n",
    "How many non-negative integer numbers are there below 10000 such that their sum of digits is equal to 10?\n",
    "\n",
    "Integers between 0 and 9999\n",
    "Sum of digits = 10\n",
    "\n",
    "- Consider numbers as sequences of 4 digits\n",
    "- there are four positions\n",
    "- split the weight of 10 among them \n",
    "\n",
    "$\\binom{k+n-1}{n-1} $\n",
    "\n",
    "where $n$ = 4 and $k$ = 10\n",
    "\n",
    "$\\binom{13}{3} $\n",
    "\n",
    "Then subtract 4 as for each position we cannot put 10 (can only be 0 to 9)"
   ]
  },
  {
   "cell_type": "code",
   "execution_count": 38,
   "metadata": {},
   "outputs": [
    {
     "name": "stdout",
     "output_type": "stream",
     "text": [
      "282\n"
     ]
    }
   ],
   "source": [
    "from math import factorial\n",
    "\n",
    "n = 4\n",
    "k = 10\n",
    "print (int(factorial(k+n-1) / (factorial(k) * factorial(n-1) )) - 4)\n"
   ]
  },
  {
   "cell_type": "code",
   "execution_count": 39,
   "metadata": {},
   "outputs": [
    {
     "name": "stdout",
     "output_type": "stream",
     "text": [
      "282\n"
     ]
    }
   ],
   "source": [
    "import itertools as it\n",
    "count = 0\n",
    "for d in it.product(range(10), repeat = 4):\n",
    "    if sum(d) == 10:\n",
    "        count += 1\n",
    "#        print(d)\n",
    "print(count)"
   ]
  },
  {
   "cell_type": "markdown",
   "metadata": {},
   "source": [
    "#### Numbers with Non-increasing Digits\n",
    "\n",
    "How many four-digit numbers are there such that their digits are non-increasing, that is each next digit is not greater than the previous one? Three-digit numbers are also four-digit, they just start with 0.\n",
    "\n",
    "- consider 4 positions\n",
    "- pick digits from 0 to 9 to be in our number\n",
    "- once picked, our number is uniquely determined\n",
    "- order of picks does not matter; repitions are allowed\n",
    "\n",
    "$\\binom{k+n-1}{n-1} $\n",
    "\n",
    "where $n$ = 10 and $k$ = 4\n",
    "\n",
    "$\\binom{13}{9} $\n"
   ]
  },
  {
   "cell_type": "code",
   "execution_count": 41,
   "metadata": {},
   "outputs": [
    {
     "name": "stdout",
     "output_type": "stream",
     "text": [
      "715\n"
     ]
    }
   ],
   "source": [
    "from math import factorial\n",
    "\n",
    "n = 10\n",
    "k = 4\n",
    "print (int(factorial(k+n-1) / (factorial(k) * factorial(n-1) )) )\n"
   ]
  },
  {
   "cell_type": "markdown",
   "metadata": {},
   "source": [
    "#### Splitting into Working Groups\n",
    "\n",
    "There are 12 students in the class. How many ways are there to split them into working groups of size 2 to work on the same assignment?\n",
    "\n",
    "There will be a total of 6 working groups\n",
    "\n",
    "Combinations:\n",
    "\n",
    "$\\binom{n}{k}$ where:\n",
    "\n",
    "1st group: $n$ = 12 and $k$ = 2 \n",
    "\n",
    "2nd group:  $n$ = 10 and $k$ = 2\n",
    "\n",
    "3rd group:  $n$ = 8 and $k$ = 2\n",
    "\n",
    "4th group: $n$ = 6 and $k$ = 2\n",
    "\n",
    "5th group:  $n$ = 4 and $k$ = 2\n",
    "\n",
    "6th group:  $n$ = 2 and $k$ = 2\n",
    "\n",
    "$\\binom{12}{2} \\times \\binom{10}{2} \\times \\binom{8}{2} \\times \\binom{6}{2} \\times \\binom{4}{2} \\times \\binom{2}{2} \\times {1\\over6!}$\n",
    "\n",
    "which is:\n",
    "\n",
    "$ {12x11\\over 2 } \\times {10x9\\over2} \\times {10x9\\over2} \\times {8x7 \\over2} \\times {6x5 \\over2} \\times {4x3 \\over 2} \\times {2x1\\over2} \\times {1\\over6!}$\n",
    "\n",
    "and simplifies to:\n",
    "\n",
    "$ {12! \\over 6! \\times 2^6 } = 10395 $\n"
   ]
  },
  {
   "cell_type": "code",
   "execution_count": 71,
   "metadata": {},
   "outputs": [
    {
     "name": "stdout",
     "output_type": "stream",
     "text": [
      "10395\n"
     ]
    }
   ],
   "source": [
    "from math import factorial\n",
    "\n",
    "k = 2\n",
    "ways = []\n",
    "\n",
    "for n in range(2,14,2):\n",
    "    ways.append(int(factorial(n) / (factorial(n-k) * factorial(k) )))\n",
    "#print(ways)\n",
    "\n",
    "product = 1\n",
    "for i in range(len(ways)):\n",
    "    product = product * ways[i]\n",
    "\n",
    "print(int(product/factorial(6)))\n"
   ]
  },
  {
   "cell_type": "markdown",
   "metadata": {},
   "source": [
    "#### Problems in Combinatrics\n",
    "\n",
    "##### Question 1\n",
    "\n",
    "We have a dataset of size 8 and we want to separate a subset of size 3 from it. How many ways do we have to do it?"
   ]
  },
  {
   "cell_type": "markdown",
   "metadata": {},
   "source": [
    "$\\binom{8}{3}$"
   ]
  },
  {
   "cell_type": "code",
   "execution_count": 72,
   "metadata": {},
   "outputs": [
    {
     "name": "stdout",
     "output_type": "stream",
     "text": [
      "56\n"
     ]
    }
   ],
   "source": [
    "from math import factorial\n",
    "\n",
    "n = 8\n",
    "k = 3\n",
    "print (int(factorial(n) / (factorial(k) * factorial(n-k) )) )"
   ]
  },
  {
   "cell_type": "markdown",
   "metadata": {},
   "source": [
    "##### Question 2\n",
    "\n",
    "We have two disjoint datasets, of size 8 and 5 respectively. We would like to move three objects from the first dataset to the second and simultaneously move two objects from the second dataset to the first one. How many ways do we have to do it?\n",
    "\n",
    "- first to second is $\\binom{8}{3}$\n",
    "- second to firsst is $\\binom{5}{2}$\n",
    "\n",
    "product"
   ]
  },
  {
   "cell_type": "code",
   "execution_count": 73,
   "metadata": {},
   "outputs": [
    {
     "name": "stdout",
     "output_type": "stream",
     "text": [
      "56\n",
      "10\n",
      "560\n"
     ]
    }
   ],
   "source": [
    "from math import factorial\n",
    "\n",
    "n = 8\n",
    "k = 3\n",
    "first_to_second = int(factorial(n) / (factorial(k) * factorial(n-k) ))\n",
    "\n",
    "n = 5\n",
    "k = 2\n",
    "second_to_first = int(factorial(n) / (factorial(k) * factorial(n-k) ))\n",
    "\n",
    "print(first_to_second)\n",
    "print(second_to_first)\n",
    "print(first_to_second * second_to_first)\n"
   ]
  },
  {
   "cell_type": "markdown",
   "metadata": {},
   "source": [
    "##### Question 3\n",
    "\n",
    "In a 6 number lottery one is trying to guess an unordered subset of 6 numbers among 44 numbers without repetitions. For this one picks 6 numbers out of 44 himself. How many ways are there to do this? You can use wolfram alpha to compute the exact number.\n",
    "\n",
    "- unordered\n",
    "- no repetitions\n",
    "\n",
    "- Combination:\n",
    "$\\binom{44}{6}$"
   ]
  },
  {
   "cell_type": "code",
   "execution_count": 75,
   "metadata": {},
   "outputs": [
    {
     "name": "stdout",
     "output_type": "stream",
     "text": [
      "7059052\n"
     ]
    }
   ],
   "source": [
    "from math import factorial\n",
    "\n",
    "n = 44\n",
    "k = 6\n",
    "lottery = int(factorial(n) / (factorial(k) * factorial(n-k) ))\n",
    "print (lottery)"
   ]
  },
  {
   "cell_type": "markdown",
   "metadata": {},
   "source": [
    "##### Question 4\n",
    "\n",
    "In a 6 number lottery one is trying to guess an unordered subset of 6 numbers among 44 numbers without repetitions. After the lottery the organisers decided to count how many possible ways are there to guess correctly exactly four numbers. What is the answer to this question? You can use wolfram alpha to compute the exact number.\n",
    "\n",
    "\n",
    "4 already selected. Need  to \n",
    "- choose 4 from the winning 6\n",
    "- chosoe 2 from th remaining (44-6) = 38\n",
    "\n",
    "Product of these\n",
    "\n",
    "- unordered\n",
    "- no repetitions\n",
    "\n",
    "- Combination:\n",
    "$\\binom{6}{4} \\times \\binom{38}{2} $"
   ]
  },
  {
   "cell_type": "code",
   "execution_count": 79,
   "metadata": {},
   "outputs": [
    {
     "name": "stdout",
     "output_type": "stream",
     "text": [
      "15\n",
      "703\n",
      "10545\n"
     ]
    }
   ],
   "source": [
    "from math import factorial\n",
    "\n",
    "n = 6\n",
    "k = 4\n",
    "lottery_f6 = int(factorial(n) / (factorial(k) * factorial(n-k) ))\n",
    "print (lottery_f6)\n",
    "n = 38\n",
    "k = 2\n",
    "\n",
    "lottery_f38 = int(factorial(n) / (factorial(k) * factorial(n-k) ))\n",
    "print (lottery_f38)\n",
    "\n",
    "print (lottery_f6 * lottery_f38)"
   ]
  },
  {
   "cell_type": "code",
   "execution_count": null,
   "metadata": {},
   "outputs": [],
   "source": []
  }
 ],
 "metadata": {
  "kernelspec": {
   "display_name": "Python 3 (ipykernel)",
   "language": "python",
   "name": "python3"
  },
  "language_info": {
   "codemirror_mode": {
    "name": "ipython",
    "version": 3
   },
   "file_extension": ".py",
   "mimetype": "text/x-python",
   "name": "python",
   "nbconvert_exporter": "python",
   "pygments_lexer": "ipython3",
   "version": "3.9.2"
  }
 },
 "nbformat": 4,
 "nbformat_minor": 4
}
